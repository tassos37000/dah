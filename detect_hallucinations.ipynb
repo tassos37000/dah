{
 "cells": [
  {
   "cell_type": "markdown",
   "id": "967ce15b-41d6-4bad-bf37-8d74a10ffbd3",
   "metadata": {},
   "source": [
    "# Libraries"
   ]
  },
  {
   "cell_type": "code",
   "execution_count": 1,
   "id": "ac0ca65d",
   "metadata": {},
   "outputs": [
    {
     "name": "stdout",
     "output_type": "stream",
     "text": [
      "cuda\n"
     ]
    }
   ],
   "source": [
    "import random\n",
    "import torch\n",
    "from transformers import AutoModel, AutoTokenizer, AutoModelForCausalLM, AutoModelForSequenceClassification\n",
    "from datasets import load_from_disk\n",
    "\n",
    "from config import DEVICE\n",
    "from generate_results import generate_answers, generate_SE\n",
    "from my_utils.data import load_ds, sample_ds, load_results\n",
    "from my_utils.semantic_entropy import is_entailment_embeddings, is_entailment_transformer, is_entailment_llm\n",
    "from my_utils.metrics import auroc_entail_models, visualise_results\n",
    "\n",
    "\n",
    "print(DEVICE)\n",
    "seed = 42\n",
    "random.seed(seed)"
   ]
  },
  {
   "cell_type": "markdown",
   "id": "ec44b227",
   "metadata": {},
   "source": [
    "# Load datasets"
   ]
  },
  {
   "cell_type": "code",
   "execution_count": 2,
   "id": "37d6243e",
   "metadata": {},
   "outputs": [
    {
     "name": "stdout",
     "output_type": "stream",
     "text": [
      "Dataset:  trivia_qa\n",
      "Dataset({\n",
      "    features: ['id', 'question', 'context', 'answers'],\n",
      "    num_rows: 400\n",
      "}) \n",
      "\n",
      "Dataset:  squad\n",
      "Dataset({\n",
      "    features: ['id', 'title', 'context', 'question', 'answers'],\n",
      "    num_rows: 400\n",
      "}) \n",
      "\n",
      "Dataset:  svamp\n",
      "Dataset({\n",
      "    features: ['ID', 'Body', 'Question', 'Equation', 'Answer', 'Type', 'question_concat', 'question', 'context', 'type', 'equation', 'id', 'answers'],\n",
      "    num_rows: 400\n",
      "}) \n",
      "\n",
      "Dataset:  nq\n",
      "Dataset({\n",
      "    features: ['question', 'answer', 'answers', 'context', 'id'],\n",
      "    num_rows: 400\n",
      "}) \n",
      "\n"
     ]
    }
   ],
   "source": [
    "n_samples = 400\n",
    "_, triviaqa_val = load_ds(\"trivia_qa\", seed)\n",
    "_, squad_val = load_ds(\"squad\", seed)\n",
    "_, svamp_val = load_ds(\"svamp\", seed)\n",
    "_, nq_val = load_ds(\"nq\", seed)\n",
    "\n",
    "\n",
    "triviaqa_sample = sample_ds(triviaqa_val, n_samples, seed, \"trivia_qa\")\n",
    "squad_sample = sample_ds(squad_val, n_samples, seed, \"squad\")\n",
    "svamp_sample = sample_ds(svamp_val, n_samples, seed, \"svamp\")\n",
    "nq_sample = sample_ds(nq_val, n_samples, seed, \"nq\")\n",
    "del triviaqa_val, squad_val, svamp_val, nq_val\n",
    "\n",
    "datasets = [triviaqa_sample, squad_sample, svamp_sample, nq_sample]"
   ]
  },
  {
   "cell_type": "markdown",
   "id": "f170ee9c",
   "metadata": {},
   "source": [
    "# Generate answers"
   ]
  },
  {
   "cell_type": "code",
   "execution_count": 3,
   "id": "226783ca",
   "metadata": {},
   "outputs": [
    {
     "data": {
      "application/vnd.jupyter.widget-view+json": {
       "model_id": "5ff0921f018c44dc9d3f0704077aa0d1",
       "version_major": 2,
       "version_minor": 0
      },
      "text/plain": [
       "Loading checkpoint shards:   0%|          | 0/2 [00:00<?, ?it/s]"
      ]
     },
     "metadata": {},
     "output_type": "display_data"
    },
    {
     "name": "stdout",
     "output_type": "stream",
     "text": [
      "\n",
      "Generating responses for trivia_qa dataset...\n"
     ]
    },
    {
     "name": "stderr",
     "output_type": "stream",
     "text": [
      "100%|██████████| 400/400 [25:19<00:00,  3.80s/it]\n"
     ]
    },
    {
     "data": {
      "application/vnd.jupyter.widget-view+json": {
       "model_id": "48c63731c7d145ebb9b36742f7af4105",
       "version_major": 2,
       "version_minor": 0
      },
      "text/plain": [
       "Saving the dataset (0/1 shards):   0%|          | 0/400 [00:00<?, ? examples/s]"
      ]
     },
     "metadata": {},
     "output_type": "display_data"
    },
    {
     "name": "stdout",
     "output_type": "stream",
     "text": [
      "\n",
      "Generating responses for squad dataset...\n"
     ]
    },
    {
     "name": "stderr",
     "output_type": "stream",
     "text": [
      "100%|██████████| 400/400 [31:12<00:00,  4.68s/it]\n"
     ]
    },
    {
     "data": {
      "application/vnd.jupyter.widget-view+json": {
       "model_id": "04045819c873450ab61b1b16692a500c",
       "version_major": 2,
       "version_minor": 0
      },
      "text/plain": [
       "Saving the dataset (0/1 shards):   0%|          | 0/400 [00:00<?, ? examples/s]"
      ]
     },
     "metadata": {},
     "output_type": "display_data"
    },
    {
     "name": "stdout",
     "output_type": "stream",
     "text": [
      "\n",
      "Generating responses for svamp dataset...\n"
     ]
    },
    {
     "name": "stderr",
     "output_type": "stream",
     "text": [
      "100%|██████████| 400/400 [36:14<00:00,  5.44s/it] \n"
     ]
    },
    {
     "data": {
      "application/vnd.jupyter.widget-view+json": {
       "model_id": "f879be78f9b94c46aa39c371a9a39f8b",
       "version_major": 2,
       "version_minor": 0
      },
      "text/plain": [
       "Saving the dataset (0/1 shards):   0%|          | 0/400 [00:00<?, ? examples/s]"
      ]
     },
     "metadata": {},
     "output_type": "display_data"
    },
    {
     "name": "stdout",
     "output_type": "stream",
     "text": [
      "\n",
      "Generating responses for nq dataset...\n"
     ]
    },
    {
     "name": "stderr",
     "output_type": "stream",
     "text": [
      "100%|██████████| 400/400 [27:18<00:00,  4.10s/it]\n"
     ]
    },
    {
     "data": {
      "application/vnd.jupyter.widget-view+json": {
       "model_id": "2298d503ab8b4cb19e0323f75ff604b1",
       "version_major": 2,
       "version_minor": 0
      },
      "text/plain": [
       "Saving the dataset (0/1 shards):   0%|          | 0/400 [00:00<?, ? examples/s]"
      ]
     },
     "metadata": {},
     "output_type": "display_data"
    }
   ],
   "source": [
    "# LLM\n",
    "Gemma_model = AutoModelForCausalLM.from_pretrained(\"google/gemma-2-2b-it\", device_map=\"auto\", torch_dtype=torch.bfloat16)\n",
    "Gemma_tokenizer = AutoTokenizer.from_pretrained(\"google/gemma-2-2b-it\")\n",
    "\n",
    "data_answer_path = \"data/answers/\"\n",
    "generate_answers(datasets, data_answer_path, Gemma_model, Gemma_tokenizer)\n",
    "\n",
    "del Gemma_model, Gemma_tokenizer\n",
    "torch.cuda.empty_cache()"
   ]
  },
  {
   "cell_type": "markdown",
   "id": "773b1c8a",
   "metadata": {},
   "source": [
    "# Load Answers"
   ]
  },
  {
   "cell_type": "code",
   "execution_count": 2,
   "id": "0e862fe8",
   "metadata": {},
   "outputs": [],
   "source": [
    "triviaqa_sample = load_from_disk(\"data/answers/trivia_qa\")\n",
    "squad_sample = load_from_disk(\"data/answers/squad\")\n",
    "svamp_sample = load_from_disk(\"data/answers/svamp\")\n",
    "nq_sample = load_from_disk(\"data/answers/nq\")\n",
    "Gemma_tokenizer = AutoTokenizer.from_pretrained(\"google/gemma-2-2b-it\")\n",
    "\n",
    "datasets = [triviaqa_sample, squad_sample, svamp_sample, nq_sample]"
   ]
  },
  {
   "cell_type": "markdown",
   "id": "6aef4906",
   "metadata": {},
   "source": [
    "# Calculate Semantic Entropy for different entailment models"
   ]
  },
  {
   "cell_type": "code",
   "execution_count": 4,
   "id": "baefa331",
   "metadata": {},
   "outputs": [
    {
     "name": "stdout",
     "output_type": "stream",
     "text": [
      "\n",
      "All-mpnet-base-v2\n",
      "\n",
      "Generating Semantic Entropies for trivia_qa dataset...\n"
     ]
    },
    {
     "name": "stderr",
     "output_type": "stream",
     "text": [
      "100%|██████████| 400/400 [00:32<00:00, 12.29it/s]\n"
     ]
    },
    {
     "data": {
      "application/vnd.jupyter.widget-view+json": {
       "model_id": "b4dcd69d5256474994884b6d056226ab",
       "version_major": 2,
       "version_minor": 0
      },
      "text/plain": [
       "Saving the dataset (0/1 shards):   0%|          | 0/400 [00:00<?, ? examples/s]"
      ]
     },
     "metadata": {},
     "output_type": "display_data"
    },
    {
     "name": "stdout",
     "output_type": "stream",
     "text": [
      "\n",
      "Generating Semantic Entropies for squad dataset...\n"
     ]
    },
    {
     "name": "stderr",
     "output_type": "stream",
     "text": [
      "100%|██████████| 400/400 [00:33<00:00, 11.96it/s]\n"
     ]
    },
    {
     "data": {
      "application/vnd.jupyter.widget-view+json": {
       "model_id": "2ea78262227c4f05af6edff50078bd73",
       "version_major": 2,
       "version_minor": 0
      },
      "text/plain": [
       "Saving the dataset (0/1 shards):   0%|          | 0/400 [00:00<?, ? examples/s]"
      ]
     },
     "metadata": {},
     "output_type": "display_data"
    },
    {
     "name": "stdout",
     "output_type": "stream",
     "text": [
      "\n",
      "Generating Semantic Entropies for svamp dataset...\n"
     ]
    },
    {
     "name": "stderr",
     "output_type": "stream",
     "text": [
      "100%|██████████| 400/400 [00:35<00:00, 11.37it/s]\n"
     ]
    },
    {
     "data": {
      "application/vnd.jupyter.widget-view+json": {
       "model_id": "c29e2be14ec94afcbb82f350609d65af",
       "version_major": 2,
       "version_minor": 0
      },
      "text/plain": [
       "Saving the dataset (0/1 shards):   0%|          | 0/400 [00:00<?, ? examples/s]"
      ]
     },
     "metadata": {},
     "output_type": "display_data"
    },
    {
     "name": "stdout",
     "output_type": "stream",
     "text": [
      "\n",
      "Generating Semantic Entropies for nq dataset...\n"
     ]
    },
    {
     "name": "stderr",
     "output_type": "stream",
     "text": [
      "100%|██████████| 400/400 [00:33<00:00, 12.09it/s]\n"
     ]
    },
    {
     "data": {
      "application/vnd.jupyter.widget-view+json": {
       "model_id": "3cf6a7ed5c014f9990be868b2023aff2",
       "version_major": 2,
       "version_minor": 0
      },
      "text/plain": [
       "Saving the dataset (0/1 shards):   0%|          | 0/400 [00:00<?, ? examples/s]"
      ]
     },
     "metadata": {},
     "output_type": "display_data"
    }
   ],
   "source": [
    "# Sentence Embeddings\n",
    "All_mpnet_model = AutoModel.from_pretrained('sentence-transformers/all-mpnet-base-v2').to(DEVICE)\n",
    "All_mpnet_tokenizer = AutoTokenizer.from_pretrained('sentence-transformers/all-mpnet-base-v2')\n",
    "data_entail_path = \"data/transformers/all_mpnet_base_v2/109M/\"\n",
    "print(\"\\nAll-mpnet-base-v2\")\n",
    "generate_SE(datasets, data_entail_path, Gemma_tokenizer, All_mpnet_model, All_mpnet_tokenizer, is_entailment_embeddings)\n",
    "del All_mpnet_model, All_mpnet_tokenizer\n",
    "torch.cuda.empty_cache()"
   ]
  },
  {
   "cell_type": "code",
   "execution_count": null,
   "id": "02ce7ef8",
   "metadata": {},
   "outputs": [
    {
     "name": "stderr",
     "output_type": "stream",
     "text": [
      "Some weights of the model checkpoint at roberta-large-mnli were not used when initializing RobertaForSequenceClassification: ['roberta.pooler.dense.bias', 'roberta.pooler.dense.weight']\n",
      "- This IS expected if you are initializing RobertaForSequenceClassification from the checkpoint of a model trained on another task or with another architecture (e.g. initializing a BertForSequenceClassification model from a BertForPreTraining model).\n",
      "- This IS NOT expected if you are initializing RobertaForSequenceClassification from the checkpoint of a model that you expect to be exactly identical (initializing a BertForSequenceClassification model from a BertForSequenceClassification model).\n"
     ]
    },
    {
     "name": "stdout",
     "output_type": "stream",
     "text": [
      "\n",
      "Roberta\n",
      "\n",
      "Generating Semantic Entropies for trivia_qa dataset...\n"
     ]
    },
    {
     "name": "stderr",
     "output_type": "stream",
     "text": [
      "  0%|          | 0/400 [00:00<?, ?it/s]c:\\Users\\tasso\\anaconda3\\envs\\mscs\\Lib\\site-packages\\transformers\\models\\roberta\\modeling_roberta.py:370: UserWarning: 1Torch was not compiled with flash attention. (Triggered internally at C:\\cb\\pytorch_1000000000000\\work\\aten\\src\\ATen\\native\\transformers\\cuda\\sdp_utils.cpp:555.)\n",
      "  attn_output = torch.nn.functional.scaled_dot_product_attention(\n",
      "100%|██████████| 400/400 [01:45<00:00,  3.80it/s]\n"
     ]
    },
    {
     "data": {
      "application/vnd.jupyter.widget-view+json": {
       "model_id": "cee17d3531dc486db7ee6f200a446461",
       "version_major": 2,
       "version_minor": 0
      },
      "text/plain": [
       "Saving the dataset (0/1 shards):   0%|          | 0/400 [00:00<?, ? examples/s]"
      ]
     },
     "metadata": {},
     "output_type": "display_data"
    },
    {
     "name": "stdout",
     "output_type": "stream",
     "text": [
      "\n",
      "Generating Semantic Entropies for squad dataset...\n"
     ]
    },
    {
     "name": "stderr",
     "output_type": "stream",
     "text": [
      "100%|██████████| 400/400 [01:46<00:00,  3.75it/s]\n"
     ]
    },
    {
     "data": {
      "application/vnd.jupyter.widget-view+json": {
       "model_id": "0dcf283942014a75895498669f8320d1",
       "version_major": 2,
       "version_minor": 0
      },
      "text/plain": [
       "Saving the dataset (0/1 shards):   0%|          | 0/400 [00:00<?, ? examples/s]"
      ]
     },
     "metadata": {},
     "output_type": "display_data"
    },
    {
     "name": "stdout",
     "output_type": "stream",
     "text": [
      "\n",
      "Generating Semantic Entropies for svamp dataset...\n"
     ]
    },
    {
     "name": "stderr",
     "output_type": "stream",
     "text": [
      "100%|██████████| 400/400 [01:49<00:00,  3.66it/s]\n"
     ]
    },
    {
     "data": {
      "application/vnd.jupyter.widget-view+json": {
       "model_id": "4e737f50987744eb94f6d67103f622ef",
       "version_major": 2,
       "version_minor": 0
      },
      "text/plain": [
       "Saving the dataset (0/1 shards):   0%|          | 0/400 [00:00<?, ? examples/s]"
      ]
     },
     "metadata": {},
     "output_type": "display_data"
    },
    {
     "name": "stdout",
     "output_type": "stream",
     "text": [
      "\n",
      "Generating Semantic Entropies for nq dataset...\n"
     ]
    },
    {
     "name": "stderr",
     "output_type": "stream",
     "text": [
      "100%|██████████| 400/400 [01:47<00:00,  3.73it/s]\n"
     ]
    },
    {
     "data": {
      "application/vnd.jupyter.widget-view+json": {
       "model_id": "df573e8c29334bff8a9c3abeb1b65826",
       "version_major": 2,
       "version_minor": 0
      },
      "text/plain": [
       "Saving the dataset (0/1 shards):   0%|          | 0/400 [00:00<?, ? examples/s]"
      ]
     },
     "metadata": {},
     "output_type": "display_data"
    },
    {
     "name": "stdout",
     "output_type": "stream",
     "text": [
      "\n",
      "Qwen 0.5B\n",
      "\n",
      "Generating Semantic Entropies for trivia_qa dataset...\n"
     ]
    },
    {
     "name": "stderr",
     "output_type": "stream",
     "text": [
      "100%|██████████| 400/400 [41:08<00:00,  6.17s/it] \n"
     ]
    },
    {
     "data": {
      "application/vnd.jupyter.widget-view+json": {
       "model_id": "7c2b16524c7043429332d7f49281bba7",
       "version_major": 2,
       "version_minor": 0
      },
      "text/plain": [
       "Saving the dataset (0/1 shards):   0%|          | 0/400 [00:00<?, ? examples/s]"
      ]
     },
     "metadata": {},
     "output_type": "display_data"
    },
    {
     "name": "stdout",
     "output_type": "stream",
     "text": [
      "\n",
      "Generating Semantic Entropies for squad dataset...\n"
     ]
    },
    {
     "name": "stderr",
     "output_type": "stream",
     "text": [
      "100%|██████████| 400/400 [41:26<00:00,  6.22s/it]  \n"
     ]
    },
    {
     "data": {
      "application/vnd.jupyter.widget-view+json": {
       "model_id": "7801f30d2ecc42e58c4390a2ef54481e",
       "version_major": 2,
       "version_minor": 0
      },
      "text/plain": [
       "Saving the dataset (0/1 shards):   0%|          | 0/400 [00:00<?, ? examples/s]"
      ]
     },
     "metadata": {},
     "output_type": "display_data"
    },
    {
     "name": "stdout",
     "output_type": "stream",
     "text": [
      "\n",
      "Generating Semantic Entropies for svamp dataset...\n"
     ]
    },
    {
     "name": "stderr",
     "output_type": "stream",
     "text": [
      "100%|██████████| 400/400 [1:56:04<00:00, 17.41s/it]  \n"
     ]
    },
    {
     "data": {
      "application/vnd.jupyter.widget-view+json": {
       "model_id": "9ee899d241e942c0bff1618194a8af50",
       "version_major": 2,
       "version_minor": 0
      },
      "text/plain": [
       "Saving the dataset (0/1 shards):   0%|          | 0/400 [00:00<?, ? examples/s]"
      ]
     },
     "metadata": {},
     "output_type": "display_data"
    },
    {
     "name": "stdout",
     "output_type": "stream",
     "text": [
      "\n",
      "Generating Semantic Entropies for nq dataset...\n"
     ]
    },
    {
     "name": "stderr",
     "output_type": "stream",
     "text": [
      "100%|██████████| 400/400 [27:07<00:00,  4.07s/it] \n"
     ]
    },
    {
     "data": {
      "application/vnd.jupyter.widget-view+json": {
       "model_id": "e996e97447e24d588abca104933c2b3e",
       "version_major": 2,
       "version_minor": 0
      },
      "text/plain": [
       "Saving the dataset (0/1 shards):   0%|          | 0/400 [00:00<?, ? examples/s]"
      ]
     },
     "metadata": {},
     "output_type": "display_data"
    },
    {
     "name": "stdout",
     "output_type": "stream",
     "text": [
      "\n",
      "Qwen 1.5B\n",
      "\n",
      "Generating Semantic Entropies for trivia_qa dataset...\n"
     ]
    },
    {
     "name": "stderr",
     "output_type": "stream",
     "text": [
      "100%|██████████| 400/400 [15:02<00:00,  2.26s/it]\n"
     ]
    },
    {
     "data": {
      "application/vnd.jupyter.widget-view+json": {
       "model_id": "15f1b82521344dceb319de8346afef15",
       "version_major": 2,
       "version_minor": 0
      },
      "text/plain": [
       "Saving the dataset (0/1 shards):   0%|          | 0/400 [00:00<?, ? examples/s]"
      ]
     },
     "metadata": {},
     "output_type": "display_data"
    },
    {
     "name": "stdout",
     "output_type": "stream",
     "text": [
      "\n",
      "Generating Semantic Entropies for squad dataset...\n"
     ]
    },
    {
     "name": "stderr",
     "output_type": "stream",
     "text": [
      "100%|██████████| 400/400 [14:36<00:00,  2.19s/it]\n"
     ]
    },
    {
     "data": {
      "application/vnd.jupyter.widget-view+json": {
       "model_id": "0ebf3ca6ebf6479d95aff1d9b40e187d",
       "version_major": 2,
       "version_minor": 0
      },
      "text/plain": [
       "Saving the dataset (0/1 shards):   0%|          | 0/400 [00:00<?, ? examples/s]"
      ]
     },
     "metadata": {},
     "output_type": "display_data"
    },
    {
     "name": "stdout",
     "output_type": "stream",
     "text": [
      "\n",
      "Generating Semantic Entropies for svamp dataset...\n"
     ]
    },
    {
     "name": "stderr",
     "output_type": "stream",
     "text": [
      "100%|██████████| 400/400 [10:04<00:00,  1.51s/it]\n"
     ]
    },
    {
     "data": {
      "application/vnd.jupyter.widget-view+json": {
       "model_id": "41a79c3310864bdf92304e0b72a8951f",
       "version_major": 2,
       "version_minor": 0
      },
      "text/plain": [
       "Saving the dataset (0/1 shards):   0%|          | 0/400 [00:00<?, ? examples/s]"
      ]
     },
     "metadata": {},
     "output_type": "display_data"
    },
    {
     "name": "stdout",
     "output_type": "stream",
     "text": [
      "\n",
      "Generating Semantic Entropies for nq dataset...\n"
     ]
    },
    {
     "name": "stderr",
     "output_type": "stream",
     "text": [
      "100%|██████████| 400/400 [15:24<00:00,  2.31s/it]\n"
     ]
    },
    {
     "data": {
      "application/vnd.jupyter.widget-view+json": {
       "model_id": "5c02b62414d141cb81f09bacd3726c6f",
       "version_major": 2,
       "version_minor": 0
      },
      "text/plain": [
       "Saving the dataset (0/1 shards):   0%|          | 0/400 [00:00<?, ? examples/s]"
      ]
     },
     "metadata": {},
     "output_type": "display_data"
    }
   ],
   "source": [
    "# Entailment Transformer\n",
    "Roberta_model = AutoModelForSequenceClassification.from_pretrained(\"roberta-large-mnli\").to(DEVICE)\n",
    "Roberta_tokenizer = AutoTokenizer.from_pretrained(\"roberta-large-mnli\")\n",
    "data_entail_path = \"data/transformers/roberta/356M/\"\n",
    "print(\"\\nRoberta\")\n",
    "generate_SE(datasets, data_entail_path, Gemma_tokenizer, Roberta_model, Roberta_tokenizer, is_entailment_transformer)\n",
    "del Roberta_model, Roberta_tokenizer\n",
    "torch.cuda.empty_cache()\n",
    "\n",
    "\n",
    "# Entailment LLMs\n",
    "Qwen_model = AutoModelForCausalLM.from_pretrained(\"Qwen/Qwen2.5-0.5B-Instruct\", torch_dtype=\"auto\", device_map=\"auto\").to(DEVICE)\n",
    "Qwen_tokenizer = AutoTokenizer.from_pretrained(\"Qwen/Qwen2.5-0.5B-Instruct\")\n",
    "data_entail_path = \"data/llms/qwen/0.5B/\"\n",
    "print(\"\\nQwen 0.5B\")\n",
    "generate_SE(datasets, data_entail_path, Gemma_tokenizer, Qwen_model, Qwen_tokenizer, is_entailment_llm)\n",
    "del Qwen_model, Qwen_tokenizer\n",
    "torch.cuda.empty_cache()\n",
    "\n",
    "Qwen_model = AutoModelForCausalLM.from_pretrained(\"Qwen/Qwen2.5-1.5B-Instruct\", torch_dtype=\"auto\", device_map=\"auto\").to(DEVICE)\n",
    "Qwen_tokenizer = AutoTokenizer.from_pretrained(\"Qwen/Qwen2.5-1.5B-Instruct\")\n",
    "data_entail_path = \"data/llms/qwen/1.5B/\"\n",
    "print(\"\\nQwen 1.5B\")\n",
    "generate_SE(datasets, data_entail_path, Gemma_tokenizer, Qwen_model, Qwen_tokenizer, is_entailment_llm)\n",
    "del Qwen_model, Qwen_tokenizer\n",
    "torch.cuda.empty_cache()"
   ]
  },
  {
   "cell_type": "code",
   "execution_count": null,
   "id": "77bb97d3",
   "metadata": {},
   "outputs": [
    {
     "data": {
      "application/vnd.jupyter.widget-view+json": {
       "model_id": "13803f69aeb9409f98e1c196d35ace26",
       "version_major": 2,
       "version_minor": 0
      },
      "text/plain": [
       "Loading checkpoint shards:   0%|          | 0/2 [00:00<?, ?it/s]"
      ]
     },
     "metadata": {},
     "output_type": "display_data"
    },
    {
     "name": "stdout",
     "output_type": "stream",
     "text": [
      "\n",
      "Qwen 3B\n",
      "\n",
      "Generating Semantic Entropies for trivia_qa dataset...\n"
     ]
    },
    {
     "name": "stderr",
     "output_type": "stream",
     "text": [
      "  0%|          | 0/400 [00:00<?, ?it/s]c:\\Users\\tasso\\anaconda3\\envs\\mscs\\Lib\\site-packages\\transformers\\models\\qwen2\\modeling_qwen2.py:544: UserWarning: 1Torch was not compiled with flash attention. (Triggered internally at C:\\cb\\pytorch_1000000000000\\work\\aten\\src\\ATen\\native\\transformers\\cuda\\sdp_utils.cpp:555.)\n",
      "  attn_output = torch.nn.functional.scaled_dot_product_attention(\n",
      "100%|██████████| 400/400 [57:06<00:00,  8.57s/it]  \n"
     ]
    },
    {
     "data": {
      "application/vnd.jupyter.widget-view+json": {
       "model_id": "07740d416a5d489198ebb3a43be3ae6d",
       "version_major": 2,
       "version_minor": 0
      },
      "text/plain": [
       "Saving the dataset (0/1 shards):   0%|          | 0/400 [00:00<?, ? examples/s]"
      ]
     },
     "metadata": {},
     "output_type": "display_data"
    },
    {
     "name": "stdout",
     "output_type": "stream",
     "text": [
      "\n",
      "Generating Semantic Entropies for squad dataset...\n"
     ]
    },
    {
     "name": "stderr",
     "output_type": "stream",
     "text": [
      "100%|██████████| 400/400 [1:49:38<00:00, 16.45s/it]  \n"
     ]
    },
    {
     "data": {
      "application/vnd.jupyter.widget-view+json": {
       "model_id": "46ad8ddeaa984ba485d4e36d0fd3f0f4",
       "version_major": 2,
       "version_minor": 0
      },
      "text/plain": [
       "Saving the dataset (0/1 shards):   0%|          | 0/400 [00:00<?, ? examples/s]"
      ]
     },
     "metadata": {},
     "output_type": "display_data"
    },
    {
     "name": "stdout",
     "output_type": "stream",
     "text": [
      "\n",
      "Generating Semantic Entropies for svamp dataset...\n"
     ]
    },
    {
     "name": "stderr",
     "output_type": "stream",
     "text": [
      "100%|██████████| 400/400 [2:25:00<00:00, 21.75s/it]  \n"
     ]
    },
    {
     "data": {
      "application/vnd.jupyter.widget-view+json": {
       "model_id": "4f80dd383eb84bce930e81903c5f4324",
       "version_major": 2,
       "version_minor": 0
      },
      "text/plain": [
       "Saving the dataset (0/1 shards):   0%|          | 0/400 [00:00<?, ? examples/s]"
      ]
     },
     "metadata": {},
     "output_type": "display_data"
    },
    {
     "name": "stdout",
     "output_type": "stream",
     "text": [
      "\n",
      "Generating Semantic Entropies for nq dataset...\n"
     ]
    },
    {
     "name": "stderr",
     "output_type": "stream",
     "text": [
      "100%|██████████| 400/400 [1:05:43<00:00,  9.86s/it]\n"
     ]
    },
    {
     "data": {
      "application/vnd.jupyter.widget-view+json": {
       "model_id": "a8bd6119566d48579dd51a7139716c56",
       "version_major": 2,
       "version_minor": 0
      },
      "text/plain": [
       "Saving the dataset (0/1 shards):   0%|          | 0/400 [00:00<?, ? examples/s]"
      ]
     },
     "metadata": {},
     "output_type": "display_data"
    }
   ],
   "source": [
    "Qwen_model = AutoModelForCausalLM.from_pretrained(\"Qwen/Qwen2.5-3B-Instruct\", torch_dtype=\"auto\", device_map=\"auto\").to(DEVICE)\n",
    "Qwen_tokenizer = AutoTokenizer.from_pretrained(\"Qwen/Qwen2.5-3B-Instruct\")\n",
    "data_entail_path = \"data/llms/qwen/3.0B/\"\n",
    "print(\"\\nQwen 3B\")\n",
    "generate_SE(datasets, data_entail_path, Gemma_tokenizer, Qwen_model, Qwen_tokenizer, is_entailment_llm)\n",
    "del Qwen_model, Qwen_tokenizer\n",
    "torch.cuda.empty_cache()"
   ]
  },
  {
   "cell_type": "markdown",
   "id": "1443104e",
   "metadata": {},
   "source": [
    "# Load Results"
   ]
  },
  {
   "cell_type": "code",
   "execution_count": 2,
   "id": "1437d735",
   "metadata": {},
   "outputs": [
    {
     "name": "stdout",
     "output_type": "stream",
     "text": [
      "Loaded nq from all_mpnet_base_v2/109M\n",
      "Loaded squad from all_mpnet_base_v2/109M\n",
      "Loaded svamp from all_mpnet_base_v2/109M\n",
      "Loaded trivia_qa from all_mpnet_base_v2/109M\n",
      "\n",
      "Loaded nq from roberta/356M\n",
      "Loaded squad from roberta/356M\n",
      "Loaded svamp from roberta/356M\n",
      "Loaded trivia_qa from roberta/356M\n",
      "\n",
      "Loaded nq from qwen/0.5B\n",
      "Loaded squad from qwen/0.5B\n",
      "Loaded svamp from qwen/0.5B\n",
      "Loaded trivia_qa from qwen/0.5B\n",
      "\n",
      "Loaded nq from qwen/1.5B\n",
      "Loaded squad from qwen/1.5B\n",
      "Loaded svamp from qwen/1.5B\n",
      "Loaded trivia_qa from qwen/1.5B\n",
      "\n",
      "Loaded nq from qwen/3.0B\n",
      "Loaded squad from qwen/3.0B\n",
      "Loaded svamp from qwen/3.0B\n",
      "Loaded trivia_qa from qwen/3.0B\n",
      "\n"
     ]
    }
   ],
   "source": [
    "transformers_results = load_results(\"data/transformers\")\n",
    "llm_results = load_results(\"data/llms\")"
   ]
  },
  {
   "cell_type": "markdown",
   "id": "e709cb64",
   "metadata": {},
   "source": [
    "# Calculate Metrics"
   ]
  },
  {
   "cell_type": "code",
   "execution_count": 3,
   "id": "17d92b5e",
   "metadata": {},
   "outputs": [
    {
     "name": "stdout",
     "output_type": "stream",
     "text": [
      "\n",
      "AUROC scores for Transformer All_mpnet_base_v2 109M\n",
      "nq                   dataset:   0.4761\n",
      "squad                dataset:   0.4856\n",
      "svamp                dataset:   0.5708\n",
      "trivia_qa            dataset:   0.5706\n",
      "\n",
      "AUROC scores for Transformer Roberta 356M\n",
      "nq                   dataset:   0.6535\n",
      "squad                dataset:   0.5342\n",
      "svamp                dataset:   0.5722\n",
      "trivia_qa            dataset:   0.6088\n",
      "\n",
      "AUROC scores for LLM Qwen 0.5B\n",
      "nq                   dataset:   0.5678\n",
      "squad                dataset:   0.5033\n",
      "svamp                dataset:   0.4001\n",
      "trivia_qa            dataset:   0.5779\n",
      "\n",
      "AUROC scores for LLM Qwen 1.5B\n",
      "nq                   dataset:   0.5916\n",
      "squad                dataset:   0.4805\n",
      "svamp                dataset:   0.5702\n",
      "trivia_qa            dataset:   0.5577\n",
      "\n",
      "AUROC scores for LLM Qwen 3.0B\n",
      "nq                   dataset:   0.5200\n",
      "squad                dataset:   0.4646\n",
      "svamp                dataset:   0.5027\n",
      "trivia_qa            dataset:   0.5717\n"
     ]
    },
    {
     "data": {
      "image/png": "[encoded data removed]",
      "text/plain": [
       "<Figure size 1000x600 with 1 Axes>"
      ]
     },
     "metadata": {},
     "output_type": "display_data"
    }
   ],
   "source": [
    "tr = auroc_entail_models(transformers_results, \"Transformer\")\n",
    "lr = auroc_entail_models(llm_results, \"LLM\")\n",
    "\n",
    "models_names = tr[0]+lr[0]\n",
    "results = tr[1]+lr[1]\n",
    "\n",
    "datasets_names = [\"nq\", \"squad\", \"svamp\", \"trivia_qa\"]\n",
    "visualise_results(models_names, datasets_names, results)"
   ]
  },
  {
   "cell_type": "code",
   "execution_count": null,
   "id": "434a3338",
   "metadata": {},
   "outputs": [],
   "source": []
  }
 ],
 "metadata": {
  "kernelspec": {
   "display_name": "mscs",
   "language": "python",
   "name": "python3"
  },
  "language_info": {
   "codemirror_mode": {
    "name": "ipython",
    "version": 3
   },
   "file_extension": ".py",
   "mimetype": "text/x-python",
   "name": "python",
   "nbconvert_exporter": "python",
   "pygments_lexer": "ipython3",
   "version": "3.12.5"
  }
 },
 "nbformat": 4,
 "nbformat_minor": 5
}
